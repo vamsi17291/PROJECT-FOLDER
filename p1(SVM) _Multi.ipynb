{
 "cells": [
  {
   "cell_type": "code",
   "execution_count": 1,
   "metadata": {},
   "outputs": [
    {
     "data": {
      "text/html": [
       "<div>\n",
       "<style scoped>\n",
       "    .dataframe tbody tr th:only-of-type {\n",
       "        vertical-align: middle;\n",
       "    }\n",
       "\n",
       "    .dataframe tbody tr th {\n",
       "        vertical-align: top;\n",
       "    }\n",
       "\n",
       "    .dataframe thead th {\n",
       "        text-align: right;\n",
       "    }\n",
       "</style>\n",
       "<table border=\"1\" class=\"dataframe\">\n",
       "  <thead>\n",
       "    <tr style=\"text-align: right;\">\n",
       "      <th></th>\n",
       "      <th>switch_id</th>\n",
       "      <th>in_port</th>\n",
       "      <th>outport</th>\n",
       "      <th>src_mac_addr(eth)</th>\n",
       "      <th>src_mac_addr(arp)</th>\n",
       "      <th>dst_mac_addr(eth)</th>\n",
       "      <th>dst_mac_addr(arp)</th>\n",
       "      <th>src_ip(arp)</th>\n",
       "      <th>dst_ip(arp)</th>\n",
       "      <th>op_code(arp)</th>\n",
       "      <th>packet_in_count</th>\n",
       "      <th>Protocol</th>\n",
       "      <th>Pkt loss</th>\n",
       "      <th>rtt (avg)</th>\n",
       "      <th>total_time</th>\n",
       "      <th>Label</th>\n",
       "    </tr>\n",
       "  </thead>\n",
       "  <tbody>\n",
       "    <tr>\n",
       "      <th>0</th>\n",
       "      <td>5</td>\n",
       "      <td>1</td>\n",
       "      <td>4294967291</td>\n",
       "      <td>00:00:00:00:00:07</td>\n",
       "      <td>00:00:00:00:00:07</td>\n",
       "      <td>ff:ff:ff:ff:ff:ff</td>\n",
       "      <td>00:00:00:00:00:00</td>\n",
       "      <td>10.0.0.7</td>\n",
       "      <td>10.0.0.12</td>\n",
       "      <td>1</td>\n",
       "      <td>1707</td>\n",
       "      <td>0</td>\n",
       "      <td>0</td>\n",
       "      <td>0.0</td>\n",
       "      <td>306446</td>\n",
       "      <td>0</td>\n",
       "    </tr>\n",
       "    <tr>\n",
       "      <th>1</th>\n",
       "      <td>2</td>\n",
       "      <td>3</td>\n",
       "      <td>4294967291</td>\n",
       "      <td>00:00:00:00:00:07</td>\n",
       "      <td>00:00:00:00:00:07</td>\n",
       "      <td>ff:ff:ff:ff:ff:ff</td>\n",
       "      <td>00:00:00:00:00:00</td>\n",
       "      <td>10.0.0.7</td>\n",
       "      <td>10.0.0.12</td>\n",
       "      <td>1</td>\n",
       "      <td>1708</td>\n",
       "      <td>0</td>\n",
       "      <td>0</td>\n",
       "      <td>0.0</td>\n",
       "      <td>306446</td>\n",
       "      <td>0</td>\n",
       "    </tr>\n",
       "    <tr>\n",
       "      <th>2</th>\n",
       "      <td>4</td>\n",
       "      <td>4</td>\n",
       "      <td>4294967291</td>\n",
       "      <td>00:00:00:00:00:07</td>\n",
       "      <td>00:00:00:00:00:07</td>\n",
       "      <td>ff:ff:ff:ff:ff:ff</td>\n",
       "      <td>00:00:00:00:00:00</td>\n",
       "      <td>10.0.0.7</td>\n",
       "      <td>10.0.0.12</td>\n",
       "      <td>1</td>\n",
       "      <td>1709</td>\n",
       "      <td>0</td>\n",
       "      <td>0</td>\n",
       "      <td>0.0</td>\n",
       "      <td>306446</td>\n",
       "      <td>0</td>\n",
       "    </tr>\n",
       "    <tr>\n",
       "      <th>3</th>\n",
       "      <td>3</td>\n",
       "      <td>4</td>\n",
       "      <td>4294967291</td>\n",
       "      <td>00:00:00:00:00:07</td>\n",
       "      <td>00:00:00:00:00:07</td>\n",
       "      <td>ff:ff:ff:ff:ff:ff</td>\n",
       "      <td>00:00:00:00:00:00</td>\n",
       "      <td>10.0.0.7</td>\n",
       "      <td>10.0.0.12</td>\n",
       "      <td>1</td>\n",
       "      <td>1710</td>\n",
       "      <td>0</td>\n",
       "      <td>0</td>\n",
       "      <td>0.0</td>\n",
       "      <td>306446</td>\n",
       "      <td>0</td>\n",
       "    </tr>\n",
       "    <tr>\n",
       "      <th>4</th>\n",
       "      <td>1</td>\n",
       "      <td>1</td>\n",
       "      <td>4294967291</td>\n",
       "      <td>00:00:00:00:00:07</td>\n",
       "      <td>00:00:00:00:00:07</td>\n",
       "      <td>ff:ff:ff:ff:ff:ff</td>\n",
       "      <td>00:00:00:00:00:00</td>\n",
       "      <td>10.0.0.7</td>\n",
       "      <td>10.0.0.12</td>\n",
       "      <td>1</td>\n",
       "      <td>1711</td>\n",
       "      <td>0</td>\n",
       "      <td>0</td>\n",
       "      <td>0.0</td>\n",
       "      <td>306446</td>\n",
       "      <td>0</td>\n",
       "    </tr>\n",
       "    <tr>\n",
       "      <th>...</th>\n",
       "      <td>...</td>\n",
       "      <td>...</td>\n",
       "      <td>...</td>\n",
       "      <td>...</td>\n",
       "      <td>...</td>\n",
       "      <td>...</td>\n",
       "      <td>...</td>\n",
       "      <td>...</td>\n",
       "      <td>...</td>\n",
       "      <td>...</td>\n",
       "      <td>...</td>\n",
       "      <td>...</td>\n",
       "      <td>...</td>\n",
       "      <td>...</td>\n",
       "      <td>...</td>\n",
       "      <td>...</td>\n",
       "    </tr>\n",
       "    <tr>\n",
       "      <th>133995</th>\n",
       "      <td>2</td>\n",
       "      <td>1</td>\n",
       "      <td>4294967291</td>\n",
       "      <td>52:a8:8f:d6:f1:c5</td>\n",
       "      <td>f1:c7:f5:b5:82:57</td>\n",
       "      <td>ff:ff:ff:ff:ff:ff</td>\n",
       "      <td>00:00:00:00:00:00</td>\n",
       "      <td>20.43.47.187</td>\n",
       "      <td>10.0.0.2</td>\n",
       "      <td>1</td>\n",
       "      <td>96539</td>\n",
       "      <td>0</td>\n",
       "      <td>100</td>\n",
       "      <td>0.0</td>\n",
       "      <td>1028649</td>\n",
       "      <td>2</td>\n",
       "    </tr>\n",
       "    <tr>\n",
       "      <th>133996</th>\n",
       "      <td>11</td>\n",
       "      <td>4</td>\n",
       "      <td>4294967291</td>\n",
       "      <td>53:aa:b3:59:5b:9d</td>\n",
       "      <td>3e:22:e6:34:53:79</td>\n",
       "      <td>ff:ff:ff:ff:ff:ff</td>\n",
       "      <td>00:00:00:00:00:00</td>\n",
       "      <td>83.60.24.35</td>\n",
       "      <td>10.0.0.2</td>\n",
       "      <td>1</td>\n",
       "      <td>96540</td>\n",
       "      <td>0</td>\n",
       "      <td>100</td>\n",
       "      <td>0.0</td>\n",
       "      <td>1028649</td>\n",
       "      <td>2</td>\n",
       "    </tr>\n",
       "    <tr>\n",
       "      <th>133997</th>\n",
       "      <td>13</td>\n",
       "      <td>4</td>\n",
       "      <td>4294967291</td>\n",
       "      <td>71:12:2d:65:56:f1</td>\n",
       "      <td>da:4c:4a:76:d8:db</td>\n",
       "      <td>ff:ff:ff:ff:ff:ff</td>\n",
       "      <td>00:00:00:00:00:00</td>\n",
       "      <td>130.118.245.13</td>\n",
       "      <td>10.0.0.2</td>\n",
       "      <td>1</td>\n",
       "      <td>96541</td>\n",
       "      <td>0</td>\n",
       "      <td>100</td>\n",
       "      <td>0.0</td>\n",
       "      <td>1028649</td>\n",
       "      <td>2</td>\n",
       "    </tr>\n",
       "    <tr>\n",
       "      <th>133998</th>\n",
       "      <td>12</td>\n",
       "      <td>4</td>\n",
       "      <td>4294967291</td>\n",
       "      <td>71:12:2d:65:56:f1</td>\n",
       "      <td>da:4c:4a:76:d8:db</td>\n",
       "      <td>ff:ff:ff:ff:ff:ff</td>\n",
       "      <td>00:00:00:00:00:00</td>\n",
       "      <td>130.118.245.13</td>\n",
       "      <td>10.0.0.2</td>\n",
       "      <td>1</td>\n",
       "      <td>96542</td>\n",
       "      <td>0</td>\n",
       "      <td>100</td>\n",
       "      <td>0.0</td>\n",
       "      <td>1028649</td>\n",
       "      <td>2</td>\n",
       "    </tr>\n",
       "    <tr>\n",
       "      <th>133999</th>\n",
       "      <td>9</td>\n",
       "      <td>4</td>\n",
       "      <td>4294967291</td>\n",
       "      <td>a4:e8:f6:49:e4:7a</td>\n",
       "      <td>d0:55:d4:1b:a7:16</td>\n",
       "      <td>ff:ff:ff:ff:ff:ff</td>\n",
       "      <td>00:00:00:00:00:00</td>\n",
       "      <td>13.238.32.33</td>\n",
       "      <td>10.0.0.2</td>\n",
       "      <td>1</td>\n",
       "      <td>96543</td>\n",
       "      <td>0</td>\n",
       "      <td>100</td>\n",
       "      <td>0.0</td>\n",
       "      <td>1028649</td>\n",
       "      <td>2</td>\n",
       "    </tr>\n",
       "  </tbody>\n",
       "</table>\n",
       "<p>134000 rows × 16 columns</p>\n",
       "</div>"
      ],
      "text/plain": [
       "        switch_id  in_port     outport  src_mac_addr(eth)  src_mac_addr(arp)  \\\n",
       "0               5        1  4294967291  00:00:00:00:00:07  00:00:00:00:00:07   \n",
       "1               2        3  4294967291  00:00:00:00:00:07  00:00:00:00:00:07   \n",
       "2               4        4  4294967291  00:00:00:00:00:07  00:00:00:00:00:07   \n",
       "3               3        4  4294967291  00:00:00:00:00:07  00:00:00:00:00:07   \n",
       "4               1        1  4294967291  00:00:00:00:00:07  00:00:00:00:00:07   \n",
       "...           ...      ...         ...                ...                ...   \n",
       "133995          2        1  4294967291  52:a8:8f:d6:f1:c5  f1:c7:f5:b5:82:57   \n",
       "133996         11        4  4294967291  53:aa:b3:59:5b:9d  3e:22:e6:34:53:79   \n",
       "133997         13        4  4294967291  71:12:2d:65:56:f1  da:4c:4a:76:d8:db   \n",
       "133998         12        4  4294967291  71:12:2d:65:56:f1  da:4c:4a:76:d8:db   \n",
       "133999          9        4  4294967291  a4:e8:f6:49:e4:7a  d0:55:d4:1b:a7:16   \n",
       "\n",
       "        dst_mac_addr(eth)  dst_mac_addr(arp)     src_ip(arp) dst_ip(arp)  \\\n",
       "0       ff:ff:ff:ff:ff:ff  00:00:00:00:00:00        10.0.0.7   10.0.0.12   \n",
       "1       ff:ff:ff:ff:ff:ff  00:00:00:00:00:00        10.0.0.7   10.0.0.12   \n",
       "2       ff:ff:ff:ff:ff:ff  00:00:00:00:00:00        10.0.0.7   10.0.0.12   \n",
       "3       ff:ff:ff:ff:ff:ff  00:00:00:00:00:00        10.0.0.7   10.0.0.12   \n",
       "4       ff:ff:ff:ff:ff:ff  00:00:00:00:00:00        10.0.0.7   10.0.0.12   \n",
       "...                   ...                ...             ...         ...   \n",
       "133995  ff:ff:ff:ff:ff:ff  00:00:00:00:00:00    20.43.47.187    10.0.0.2   \n",
       "133996  ff:ff:ff:ff:ff:ff  00:00:00:00:00:00     83.60.24.35    10.0.0.2   \n",
       "133997  ff:ff:ff:ff:ff:ff  00:00:00:00:00:00  130.118.245.13    10.0.0.2   \n",
       "133998  ff:ff:ff:ff:ff:ff  00:00:00:00:00:00  130.118.245.13    10.0.0.2   \n",
       "133999  ff:ff:ff:ff:ff:ff  00:00:00:00:00:00    13.238.32.33    10.0.0.2   \n",
       "\n",
       "        op_code(arp)  packet_in_count  Protocol  Pkt loss  rtt (avg)  \\\n",
       "0                  1             1707         0         0        0.0   \n",
       "1                  1             1708         0         0        0.0   \n",
       "2                  1             1709         0         0        0.0   \n",
       "3                  1             1710         0         0        0.0   \n",
       "4                  1             1711         0         0        0.0   \n",
       "...              ...              ...       ...       ...        ...   \n",
       "133995             1            96539         0       100        0.0   \n",
       "133996             1            96540         0       100        0.0   \n",
       "133997             1            96541         0       100        0.0   \n",
       "133998             1            96542         0       100        0.0   \n",
       "133999             1            96543         0       100        0.0   \n",
       "\n",
       "        total_time  Label  \n",
       "0           306446      0  \n",
       "1           306446      0  \n",
       "2           306446      0  \n",
       "3           306446      0  \n",
       "4           306446      0  \n",
       "...            ...    ...  \n",
       "133995     1028649      2  \n",
       "133996     1028649      2  \n",
       "133997     1028649      2  \n",
       "133998     1028649      2  \n",
       "133999     1028649      2  \n",
       "\n",
       "[134000 rows x 16 columns]"
      ]
     },
     "execution_count": 1,
     "metadata": {},
     "output_type": "execute_result"
    }
   ],
   "source": [
    "import pandas as pd\n",
    "df=pd.read_csv(r\"C:\\Users\\DELL\\Desktop\\MINOR PROJECT\\ARP Poison,flood attack Dataset.csv\")\n",
    "df"
   ]
  },
  {
   "cell_type": "code",
   "execution_count": 3,
   "metadata": {},
   "outputs": [
    {
     "data": {
      "text/plain": [
       "Label\n",
       "2    92138\n",
       "0    33694\n",
       "1     8168\n",
       "Name: count, dtype: int64"
      ]
     },
     "execution_count": 3,
     "metadata": {},
     "output_type": "execute_result"
    }
   ],
   "source": [
    "\n",
    "df[\"Label\"].value_counts()"
   ]
  },
  {
   "cell_type": "code",
   "execution_count": 4,
   "metadata": {},
   "outputs": [],
   "source": [
    "df.drop_duplicates(inplace=True)"
   ]
  },
  {
   "cell_type": "code",
   "execution_count": 5,
   "metadata": {},
   "outputs": [
    {
     "data": {
      "text/plain": [
       "switch_id              0\n",
       "in_port                0\n",
       "outport                0\n",
       "src_mac_addr(eth)      0\n",
       "src_mac_addr(arp)    532\n",
       "dst_mac_addr(eth)      0\n",
       "dst_mac_addr(arp)    533\n",
       "src_ip(arp)            0\n",
       "dst_ip(arp)            0\n",
       "op_code(arp)           0\n",
       "packet_in_count        0\n",
       "Protocol               0\n",
       "Pkt loss               0\n",
       "rtt (avg)              0\n",
       "total_time             0\n",
       "Label                  0\n",
       "dtype: int64"
      ]
     },
     "execution_count": 5,
     "metadata": {},
     "output_type": "execute_result"
    }
   ],
   "source": [
    "df.isnull().sum()"
   ]
  },
  {
   "cell_type": "code",
   "execution_count": 6,
   "metadata": {},
   "outputs": [
    {
     "data": {
      "text/plain": [
       "switch_id            0\n",
       "in_port              0\n",
       "outport              0\n",
       "src_mac_addr(eth)    0\n",
       "src_mac_addr(arp)    0\n",
       "dst_mac_addr(eth)    0\n",
       "dst_mac_addr(arp)    0\n",
       "src_ip(arp)          0\n",
       "dst_ip(arp)          0\n",
       "op_code(arp)         0\n",
       "packet_in_count      0\n",
       "Protocol             0\n",
       "Pkt loss             0\n",
       "rtt (avg)            0\n",
       "total_time           0\n",
       "Label                0\n",
       "dtype: int64"
      ]
     },
     "execution_count": 6,
     "metadata": {},
     "output_type": "execute_result"
    }
   ],
   "source": [
    "df.dropna(inplace=True)\n",
    "df.isnull().sum()"
   ]
  },
  {
   "cell_type": "code",
   "execution_count": 7,
   "metadata": {},
   "outputs": [
    {
     "name": "stdout",
     "output_type": "stream",
     "text": [
      "switch_id 13\n",
      "in_port 4\n",
      "outport 5\n",
      "src_mac_addr(eth) 7337\n",
      "src_mac_addr(arp) 7337\n",
      "dst_mac_addr(eth) 28\n",
      "dst_mac_addr(arp) 27\n",
      "src_ip(arp) 7332\n",
      "dst_ip(arp) 21\n",
      "op_code(arp) 3\n",
      "packet_in_count 92846\n",
      "Protocol 2\n",
      "Pkt loss 2\n",
      "rtt (avg) 5\n",
      "total_time 74\n",
      "Label 3\n"
     ]
    }
   ],
   "source": [
    "for i in df.columns:\n",
    "  print(i,len(df[i].unique()))"
   ]
  },
  {
   "cell_type": "code",
   "execution_count": 8,
   "metadata": {},
   "outputs": [
    {
     "name": "stdout",
     "output_type": "stream",
     "text": [
      "Label\n",
      "2    92138\n",
      "0    33320\n",
      "1     8009\n",
      "Name: count, dtype: int64\n"
     ]
    }
   ],
   "source": [
    "y=df.iloc[:,len(df.columns)-1]\n",
    "print(y.value_counts())\n",
    "y=pd.get_dummies(y)\n",
    "y.replace(to_replace=True,value=1,inplace=True)\n",
    "y.replace(to_replace=False,value=0,inplace=True)\n"
   ]
  },
  {
   "cell_type": "code",
   "execution_count": 9,
   "metadata": {},
   "outputs": [
    {
     "data": {
      "text/plain": [
       "(133467, 16)"
      ]
     },
     "execution_count": 9,
     "metadata": {},
     "output_type": "execute_result"
    }
   ],
   "source": [
    "from sklearn import preprocessing\n",
    "\n",
    "label_encoder = preprocessing.LabelEncoder()\n",
    "\n",
    "columns=[\"outport\",\"src_mac_addr(eth)\",\t\"src_mac_addr(arp)\",\"dst_mac_addr(eth)\",\"dst_mac_addr(arp)\",\"src_ip(arp)\",\"dst_ip(arp)\",\"total_time\"]\n",
    "for attr in columns:\n",
    "    df[attr]= label_encoder.fit_transform(df[attr])\n",
    "\n",
    "df.shape"
   ]
  },
  {
   "cell_type": "code",
   "execution_count": 10,
   "metadata": {},
   "outputs": [
    {
     "name": "stderr",
     "output_type": "stream",
     "text": [
      "C:\\Users\\DELL\\AppData\\Roaming\\Python\\Python311\\site-packages\\sklearn\\svm\\_classes.py:32: FutureWarning: The default value of `dual` will change from `True` to `'auto'` in 1.5. Set the value of `dual` explicitly to suppress the warning.\n",
      "  warnings.warn(\n"
     ]
    },
    {
     "name": "stdout",
     "output_type": "stream",
     "text": [
      "Accuracy: 0.9408356434654479\n"
     ]
    },
    {
     "name": "stderr",
     "output_type": "stream",
     "text": [
      "C:\\Users\\DELL\\AppData\\Roaming\\Python\\Python311\\site-packages\\sklearn\\svm\\_base.py:1242: ConvergenceWarning: Liblinear failed to converge, increase the number of iterations.\n",
      "  warnings.warn(\n"
     ]
    }
   ],
   "source": [
    "# Linear\n",
    "import numpy as np\n",
    "from sklearn.svm import LinearSVC\n",
    "from sklearn.model_selection import train_test_split\n",
    "from sklearn.metrics import accuracy_score, hinge_loss\n",
    "\n",
    "\n",
    "\n",
    "X=df.iloc[:,:len(df.columns)-1]\n",
    "y=df.iloc[:,len(df.columns)-1]\n",
    "y=np.array(y)\n",
    "\n",
    "\n",
    "X_train,X_test,y_train,y_test=train_test_split(X,y,test_size=0.3,random_state=42)\n",
    "\n",
    "svm= LinearSVC(loss=\"hinge\",multi_class=\"crammer_singer\") \n",
    "    \n",
    "\n",
    "svm.fit(X_train,y_train)\n",
    "\n",
    "y_pred=svm.predict(X_test)\n",
    "\n",
    "accuracy=accuracy_score(y_test,y_pred)\n",
    "print(\"Accuracy:\",accuracy)\n",
    "\n",
    "# print(y_test.shape)\n",
    "# print(y_pred.shape)\n",
    "\n",
    "# # hinge=hinge_loss(y_test,y_pred)\n",
    "# print(\"Loss:\",hinge_loss)\n",
    "\n"
   ]
  },
  {
   "cell_type": "code",
   "execution_count": 11,
   "metadata": {},
   "outputs": [
    {
     "data": {
      "text/plain": [
       "array([2, 2, 0, ..., 0, 2, 2], dtype=int64)"
      ]
     },
     "execution_count": 11,
     "metadata": {},
     "output_type": "execute_result"
    }
   ],
   "source": [
    "y_test"
   ]
  },
  {
   "cell_type": "code",
   "execution_count": 12,
   "metadata": {},
   "outputs": [
    {
     "data": {
      "text/plain": [
       "array([2, 2, 0, ..., 0, 2, 2], dtype=int64)"
      ]
     },
     "execution_count": 12,
     "metadata": {},
     "output_type": "execute_result"
    }
   ],
   "source": [
    "y_pred"
   ]
  },
  {
   "cell_type": "code",
   "execution_count": 13,
   "metadata": {},
   "outputs": [
    {
     "name": "stdout",
     "output_type": "stream",
     "text": [
      "Accuracy: 0.9408356434654479\n",
      "Classification Report :\n",
      "              precision    recall  f1-score   support\n",
      "\n",
      "           0       1.00      1.00      1.00     10069\n",
      "           1       1.00      0.00      0.01      2374\n",
      "           2       0.92      1.00      0.96     27598\n",
      "\n",
      "    accuracy                           0.94     40041\n",
      "   macro avg       0.97      0.67      0.65     40041\n",
      "weighted avg       0.95      0.94      0.91     40041\n",
      "\n",
      "Confusion Matrix :\n",
      "[[10069     0     0]\n",
      " [    0     6  2368]\n",
      " [    1     0 27597]]\n"
     ]
    }
   ],
   "source": [
    "from sklearn.metrics import classification_report, accuracy_score, confusion_matrix,hinge_loss\n",
    "import matplotlib.pyplot as plt\n",
    "\n",
    "accuracy=accuracy_score(y_test,y_pred)\n",
    "print(\"Accuracy:\",accuracy)\n",
    "\n",
    "\n",
    "# Classification report\n",
    "print(\"Classification Report :\")\n",
    "print(classification_report(y_test, y_pred))\n",
    "\n",
    "print(\"Confusion Matrix :\")\n",
    "cm=confusion_matrix(y_test, y_pred)\n",
    "print(cm)\n"
   ]
  },
  {
   "cell_type": "code",
   "execution_count": 14,
   "metadata": {},
   "outputs": [
    {
     "data": {
      "image/png": "[encoded data removed]",
      "text/plain": [
       "<Figure size 640x480 with 2 Axes>"
      ]
     },
     "metadata": {},
     "output_type": "display_data"
    }
   ],
   "source": [
    "import seaborn as sns\n",
    "import matplotlib.pyplot as plt\n",
    "\n",
    "labels = ['0','1','2']\n",
    "\n",
    "sns.heatmap(cm, annot=True, fmt=\"d\", xticklabels=labels, yticklabels=labels)\n",
    "plt.xlabel('Predicted Label')\n",
    "plt.ylabel('True Label')\n",
    "plt.title('Confusion Matrix')\n",
    "plt.show()    \n"
   ]
  },
  {
   "cell_type": "code",
   "execution_count": 15,
   "metadata": {},
   "outputs": [
    {
     "data": {
      "image/png": "[encoded data removed]",
      "text/plain": [
       "<Figure size 800x600 with 1 Axes>"
      ]
     },
     "metadata": {},
     "output_type": "display_data"
    },
    {
     "data": {
      "image/png": "[encoded data removed]",
      "text/plain": [
       "<Figure size 800x600 with 1 Axes>"
      ]
     },
     "metadata": {},
     "output_type": "display_data"
    },
    {
     "name": "stdout",
     "output_type": "stream",
     "text": [
      "Matthews Correlation Coefficient : 0.8708041422997078\n"
     ]
    }
   ],
   "source": [
    "from sklearn.metrics import roc_curve, auc, precision_recall_curve, matthews_corrcoef\n",
    "import matplotlib.pyplot as plt\n",
    "\n",
    "# ROC curve\n",
    "\n",
    "plt.figure(figsize=(8, 6))\n",
    "for i in range(len(df[\"Label\"].unique())):\n",
    "    fpr, tpr, _ = roc_curve((y_test == i).astype(int), svm.decision_function(X_test)[:, i])\n",
    "    roc_auc = auc(fpr, tpr)\n",
    "    plt.plot(fpr, tpr, label=f'{df[\"Label\"].unique()[i]} (AUC = {roc_auc:.2f})')\n",
    "\n",
    "plt.title('ROC Curve')\n",
    "plt.xlabel('False Positive Rate')\n",
    "plt.ylabel('True Positive Rate')\n",
    "plt.legend()\n",
    "plt.grid()\n",
    "plt.show()\n",
    "\n",
    "\n",
    "# Precision-Recall curve\n",
    "plt.figure(figsize=(8, 6))\n",
    "for i in range(len(df[\"Label\"].unique())):\n",
    "    precision, recall, _ = precision_recall_curve((y_test == i).astype(int), svm.decision_function(X_test)[:, i])\n",
    "    plt.plot(recall, precision, label=f'{df[\"Label\"].unique()[i]}')\n",
    "\n",
    "plt.title('Precision-Recall Curve ')\n",
    "plt.xlabel('Recall')\n",
    "plt.ylabel('Precision')\n",
    "plt.legend()\n",
    "plt.grid()\n",
    "plt.show()\n",
    "\n",
    "\n",
    "# Matthews correlation coefficient (MCC)\n",
    "mcc = matthews_corrcoef(y_test, y_pred)\n",
    "\n",
    "print(\"Matthews Correlation Coefficient :\", mcc)\n"
   ]
  },
  {
   "cell_type": "code",
   "execution_count": 16,
   "metadata": {},
   "outputs": [],
   "source": [
    "# import numpy as np\n",
    "# from sklearn.metrics import classification_report, roc_curve, auc, precision_recall_curve, matthews_corrcoef, accuracy_score, hinge_loss\n",
    "# import matplotlib.pyplot as plt\n",
    "# from sklearn.multiclass import OneVsOneClassifier, OneVsRestClassifier\n",
    "# from sklearn.svm import SVC\n",
    "# # from sklearn.datasets import load_iris\n",
    "# from sklearn.model_selection import train_test_split\n",
    "\n",
    "\n",
    "# x=df.iloc[:,:len(df.columns)-1]\n",
    "# X=x\n",
    "# y=df.iloc[:,len(df.columns)-1]\n",
    "# y=np.array(y)\n",
    "\n",
    "\n",
    "# # Split dataset into training and testing sets\n",
    "# X_train, X_test, y_train, y_test = train_test_split(X, y, test_size=0.3, random_state=42)\n",
    "\n",
    "# # One-vs-One (OvO) classification\n",
    "# ovo_clf = OneVsOneClassifier(SVC())\n",
    "# ovo_clf.fit(X_train, y_train)\n",
    "\n",
    "# # One-vs-All (OvA) classification\n",
    "# ova_clf = OneVsRestClassifier(SVC())\n",
    "# ova_clf.fit(X_train, y_train)\n",
    "\n",
    "# # Prediction\n",
    "# y_pred_ovo = ovo_clf.predict(X_test)\n",
    "# y_pred_ova = ova_clf.predict(X_test)\n",
    "\n",
    "# # Accuracy\n",
    "# accuracy_ovo = accuracy_score(y_test, y_pred_ovo)\n",
    "# accuracy_ova = accuracy_score(y_test, y_pred_ova)\n",
    "\n",
    "# print(\"Accuracy for One-vs-One (OvO):\", accuracy_ovo)\n",
    "# print(\"Accuracy for One-vs-All (OvA):\", accuracy_ova)\n",
    "\n",
    "# # # Hinge Loss\n",
    "# # hinge_loss_ovo = hinge_loss(y_test, y_pred_ovo)\n",
    "# # hinge_loss_ova = hinge_loss(y_test, y_pred_ova)\n",
    "\n",
    "# # print(\"Hinge Loss for One-vs-One (OvO):\", hinge_loss_ovo)\n",
    "# # print(\"Hinge Loss for One-vs-All (OvA):\", hinge_loss_ova)\n",
    "\n",
    "# # Classification report\n",
    "# print(\"Classification Report for One-vs-One (OvO):\")\n",
    "# print(classification_report(y_test, y_pred_ovo))\n",
    "# print(\"Classification Report for One-vs-All (OvA):\")\n",
    "# print(classification_report(y_test, y_pred_ova))\n",
    "\n",
    "# # ROC curve\n",
    "# plt.figure(figsize=(8, 6))\n",
    "# for i in range(len(df[\"Label\"].unique())):\n",
    "#     fpr, tpr, _ = roc_curve((y_test == i).astype(int), ovo_clf.decision_function(X_test)[:, i])\n",
    "#     roc_auc = auc(fpr, tpr)\n",
    "#     plt.plot(fpr, tpr, label=f'{df[\"Label\"].unique()[i]} (AUC = {roc_auc:.2f})')\n",
    "\n",
    "# plt.title('ROC Curve for One-vs-One (OvO)')\n",
    "# plt.xlabel('False Positive Rate')\n",
    "# plt.ylabel('True Positive Rate')\n",
    "# plt.legend()\n",
    "# plt.grid()\n",
    "# plt.show()\n",
    "\n",
    "# plt.figure(figsize=(8, 6))\n",
    "# for i in range(len(df[\"Label\"].unique())):\n",
    "#     fpr, tpr, _ = roc_curve((y_test == i).astype(int), ova_clf.decision_function(X_test)[:, i])\n",
    "#     roc_auc = auc(fpr, tpr)\n",
    "#     plt.plot(fpr, tpr, label=f'{df[\"Label\"].unique()[i]} (AUC = {roc_auc:.2f})')\n",
    "\n",
    "# plt.title('ROC Curve for One-vs-All (OvA)')\n",
    "# plt.xlabel('False Positive Rate')\n",
    "# plt.ylabel('True Positive Rate')\n",
    "# plt.legend()\n",
    "# plt.grid()\n",
    "# plt.show()\n",
    "\n",
    "# # Precision-Recall curve\n",
    "# plt.figure(figsize=(8, 6))\n",
    "# for i in range(len(df[\"Label\"].unique())):\n",
    "#     precision, recall, _ = precision_recall_curve((y_test == i).astype(int), ovo_clf.decision_function(X_test)[:, i])\n",
    "#     plt.plot(recall, precision, label=f'{df[\"Label\"].unique()[i]}')\n",
    "\n",
    "# plt.title('Precision-Recall Curve for One-vs-One (OvO)')\n",
    "# plt.xlabel('Recall')\n",
    "# plt.ylabel('Precision')\n",
    "# plt.legend()\n",
    "# plt.grid()\n",
    "# plt.show()\n",
    "\n",
    "# plt.figure(figsize=(8, 6))\n",
    "# for i in range(len(df[\"Label\"].unique())):\n",
    "#     precision, recall, _ = precision_recall_curve((y_test == i).astype(int), ova_clf.decision_function(X_test)[:, i])\n",
    "#     plt.plot(recall, precision, label=f'{df[\"Label\"].unique()[i]}')\n",
    "\n",
    "# plt.title('Precision-Recall Curve for One-vs-All (OvA)')\n",
    "# plt.xlabel('Recall')\n",
    "# plt.ylabel('Precision')\n",
    "# plt.legend()\n",
    "# plt.grid()\n",
    "# plt.show()\n",
    "\n",
    "# # Matthews correlation coefficient (MCC)\n",
    "# mcc_ovo = matthews_corrcoef(y_test, y_pred_ovo)\n",
    "# mcc_ova = matthews_corrcoef(y_test, y_pred_ova)\n",
    "# print(\"Matthews Correlation Coefficient for One-vs-One (OvO):\", mcc_ovo)\n",
    "# print(\"Matthews Correlation Coefficient for One-vs-All (OvA):\", mcc_ova)\n"
   ]
  },
  {
   "cell_type": "code",
   "execution_count": 17,
   "metadata": {},
   "outputs": [],
   "source": [
    "\n",
    "# from sklearn.metrics import hinge_loss\n",
    "\n",
    "\n",
    "\n",
    "# def hinge_loss_ovo(clf, X, y):\n",
    "#     n_samples = len(X)\n",
    "#     total_loss = 0.0\n",
    "    \n",
    "#     for i in range(n_samples):\n",
    "#         for j in range(i+1, n_samples):\n",
    "#             if y[i] == y[j]:\n",
    "#                 continue\n",
    "#             y_ij = 1 if y[i] < y[j] else -1\n",
    "#             decision = clf.decision_function([X[i], X[j]])\n",
    "#             loss = max(0, 1 - y_ij * decision[0][0]) + max(0, 1 - y_ij * decision[1][0])\n",
    "#             total_loss += loss\n",
    "    \n",
    "#     return total_loss\n",
    "\n",
    "# def hinge_loss_ova(clf, X, y):\n",
    "#     n_samples = len(X)\n",
    "#     total_loss = 0.0\n",
    "    \n",
    "#     for i in range(len(clf.estimators_)):\n",
    "#         for j in range(n_samples):\n",
    "#             y_true = 1 if y[j] == i else -1\n",
    "#             decision = clf.estimators_[i].decision_function([X[j]])\n",
    "#             loss = max(0, 1 - y_true * decision[0][0])\n",
    "#             total_loss += loss\n",
    "    \n",
    "#     return total_loss\n",
    "\n",
    "# hinge_loss_ovo_value = hinge_loss_ovo(ovo_clf, X_test, y_test)\n",
    "# hinge_loss_ova_value = hinge_loss_ova(ova_clf, X_test, y_test)\n",
    "\n",
    "# print(\"Hinge Loss (OvO):\", hinge_loss_ovo_value)\n",
    "# print(\"Hinge Loss (OvA):\", hinge_loss_ova_value)\n"
   ]
  },
  {
   "cell_type": "code",
   "execution_count": 18,
   "metadata": {},
   "outputs": [],
   "source": [
    "# rbf\n",
    "import numpy as np\n",
    "from sklearn.model_selection import train_test_split\n",
    "from sklearn.svm import SVC\n",
    "\n",
    "\n",
    "X=df.iloc[:,:len(df.columns)-1]\n",
    "y=df.iloc[:,len(df.columns)-1]\n",
    "y=np.array(y)\n",
    "\n",
    "\n",
    "X_train,X_test,y_train,y_test=train_test_split(X,y,test_size=0.3,random_state=42)\n",
    "\n",
    "svm=SVC(kernel='rbf',C=1.0,random_state=42)\n",
    "\n",
    "svm.fit(X_train,y_train)\n",
    "\n",
    "y_pred=svm.predict(X_test)\n"
   ]
  },
  {
   "cell_type": "code",
   "execution_count": 19,
   "metadata": {},
   "outputs": [
    {
     "name": "stdout",
     "output_type": "stream",
     "text": [
      "Accuracy: 0.9400114882245698\n",
      "\n",
      "Classification Report:\n",
      "               precision    recall  f1-score   support\n",
      "\n",
      "           0       0.81      1.00      0.89     10069\n",
      "           1       0.00      0.00      0.00      2374\n",
      "           2       1.00      1.00      1.00     27598\n",
      "\n",
      "    accuracy                           0.94     40041\n",
      "   macro avg       0.60      0.67      0.63     40041\n",
      "weighted avg       0.89      0.94      0.91     40041\n",
      "\n",
      "\n",
      "Confusion Matrix:\n",
      " [[10069     0     0]\n",
      " [ 2368     0     6]\n",
      " [   28     0 27570]]\n"
     ]
    },
    {
     "name": "stderr",
     "output_type": "stream",
     "text": [
      "C:\\Users\\DELL\\AppData\\Roaming\\Python\\Python311\\site-packages\\sklearn\\metrics\\_classification.py:1469: UndefinedMetricWarning: Precision and F-score are ill-defined and being set to 0.0 in labels with no predicted samples. Use `zero_division` parameter to control this behavior.\n",
      "  _warn_prf(average, modifier, msg_start, len(result))\n",
      "C:\\Users\\DELL\\AppData\\Roaming\\Python\\Python311\\site-packages\\sklearn\\metrics\\_classification.py:1469: UndefinedMetricWarning: Precision and F-score are ill-defined and being set to 0.0 in labels with no predicted samples. Use `zero_division` parameter to control this behavior.\n",
      "  _warn_prf(average, modifier, msg_start, len(result))\n",
      "C:\\Users\\DELL\\AppData\\Roaming\\Python\\Python311\\site-packages\\sklearn\\metrics\\_classification.py:1469: UndefinedMetricWarning: Precision and F-score are ill-defined and being set to 0.0 in labels with no predicted samples. Use `zero_division` parameter to control this behavior.\n",
      "  _warn_prf(average, modifier, msg_start, len(result))\n"
     ]
    }
   ],
   "source": [
    "# rbf\n",
    "from sklearn.metrics import accuracy_score,classification_report,confusion_matrix,hinge_loss\n",
    "\n",
    "accuracy=accuracy_score(y_test,y_pred)\n",
    "print(\"Accuracy:\",accuracy)\n",
    "\n",
    "# loss=hinge_loss(y_test,y_pred)\n",
    "# print(\"Hinge Loss:\",loss)\n",
    "\n",
    "print(\"\\nClassification Report:\\n\",classification_report(y_test,y_pred))\n",
    "\n",
    "\n",
    "cm=confusion_matrix(y_test,y_pred)\n",
    "print(\"\\nConfusion Matrix:\\n\",cm)\n",
    "\n",
    "\n"
   ]
  },
  {
   "cell_type": "code",
   "execution_count": 20,
   "metadata": {},
   "outputs": [
    {
     "data": {
      "image/png": "[encoded data removed]",
      "text/plain": [
       "<Figure size 640x480 with 2 Axes>"
      ]
     },
     "metadata": {},
     "output_type": "display_data"
    }
   ],
   "source": [
    "# rbf\n",
    "\n",
    "import seaborn as sns\n",
    "import matplotlib.pyplot as plt\n",
    "\n",
    "labels=[\"0\",\"1\",\"2\"]\n",
    "sns.heatmap(cm,annot=True,fmt=\"d\", xticklabels=labels, yticklabels=labels)\n",
    "plt.xlabel('Predicted Label')\n",
    "plt.ylabel('True Label')\n",
    "plt.title('Confusion Matrix')\n",
    "plt.show()   "
   ]
  },
  {
   "cell_type": "code",
   "execution_count": 21,
   "metadata": {},
   "outputs": [
    {
     "data": {
      "image/png": "[encoded data removed]",
      "text/plain": [
       "<Figure size 800x600 with 1 Axes>"
      ]
     },
     "metadata": {},
     "output_type": "display_data"
    },
    {
     "data": {
      "image/png": "[encoded data removed]",
      "text/plain": [
       "<Figure size 800x600 with 1 Axes>"
      ]
     },
     "metadata": {},
     "output_type": "display_data"
    },
    {
     "name": "stdout",
     "output_type": "stream",
     "text": [
      "Matthews Correlation Coefficient : 0.8732158858923553\n"
     ]
    }
   ],
   "source": [
    "from sklearn.metrics import roc_curve, auc, precision_recall_curve, matthews_corrcoef\n",
    "import matplotlib.pyplot as plt\n",
    "\n",
    "# ROC curve\n",
    "\n",
    "plt.figure(figsize=(8, 6))\n",
    "for i in range(len(df[\"Label\"].unique())):\n",
    "    fpr, tpr, _ = roc_curve((y_test == i).astype(int), svm.decision_function(X_test)[:, i])\n",
    "    roc_auc = auc(fpr, tpr)\n",
    "    plt.plot(fpr, tpr, label=f'{df[\"Label\"].unique()[i]} (AUC = {roc_auc:.2f})')\n",
    "\n",
    "plt.title('ROC Curve')\n",
    "plt.xlabel('False Positive Rate')\n",
    "plt.ylabel('True Positive Rate')\n",
    "plt.legend()\n",
    "plt.grid()\n",
    "plt.show()\n",
    "\n",
    "\n",
    "# Precision-Recall curve\n",
    "plt.figure(figsize=(8, 6))\n",
    "for i in range(len(df[\"Label\"].unique())):\n",
    "    precision, recall, _ = precision_recall_curve((y_test == i).astype(int), svm.decision_function(X_test)[:, i])\n",
    "    plt.plot(recall, precision, label=f'{df[\"Label\"].unique()[i]}')\n",
    "\n",
    "plt.title('Precision-Recall Curve')\n",
    "plt.xlabel('Recall')\n",
    "plt.ylabel('Precision')\n",
    "plt.legend()\n",
    "plt.grid()\n",
    "plt.show()\n",
    "\n",
    "\n",
    "# Matthews correlation coefficient (MCC)\n",
    "mcc = matthews_corrcoef(y_test, y_pred)\n",
    "\n",
    "print(\"Matthews Correlation Coefficient :\", mcc)\n"
   ]
  }
 ],
 "metadata": {
  "kernelspec": {
   "display_name": "Python 3",
   "language": "python",
   "name": "python3"
  },
  "language_info": {
   "codemirror_mode": {
    "name": "ipython",
    "version": 3
   },
   "file_extension": ".py",
   "mimetype": "text/x-python",
   "name": "python",
   "nbconvert_exporter": "python",
   "pygments_lexer": "ipython3",
   "version": "3.11.1"
  }
 },
 "nbformat": 4,
 "nbformat_minor": 2
}
